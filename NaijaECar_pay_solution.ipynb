{
 "metadata": {
  "language_info": {
   "codemirror_mode": {
    "name": "ipython",
    "version": 3
   },
   "file_extension": ".py",
   "mimetype": "text/x-python",
   "name": "python",
   "nbconvert_exporter": "python",
   "pygments_lexer": "ipython3",
   "version": "3.9.1-final"
  },
  "orig_nbformat": 2,
  "kernelspec": {
   "name": "python3",
   "display_name": "Python 3.9.1 64-bit",
   "metadata": {
    "interpreter": {
     "hash": "23300995598eec4bcf6bd89cf02d1c3675e8b2616661418dbbf5580aa901878d"
    }
   }
  }
 },
 "nbformat": 4,
 "nbformat_minor": 2,
 "cells": [
  {
   "cell_type": "code",
   "execution_count": 9,
   "metadata": {},
   "outputs": [],
   "source": [
    "class Theta:\n",
    "    #class attributes\n",
    "    def __init__(self,drive_mode,rev_per_sec,terrain,power_per_rev):\n",
    "        self.mode = drive_mode\n",
    "        self.rev = rev_per_sec\n",
    "        self.ter = terrain\n",
    "        self.pow = power_per_rev\n",
    "    #class method\n",
    "    def EnergyConsumption(self,distance,speed):\n",
    "        time = (distance/speed)*3600\n",
    "        total_rev_made = time/self.rev\n",
    "        energy_usage = total_rev_made * self.pow\n",
    "\n",
    "        price = distance*150\n",
    "\n",
    "        if self.pow <= 500:\n",
    "            print(f'''\n",
    "            Distance covered: {distance}km\n",
    "            Speed used: {speed}km/hr\n",
    "            Total energy expended: {energy_usage}watts/rev\n",
    "            Cost of trip: {price}Naira\n",
    "            ''')\n",
    "        else:\n",
    "            watt_diff = self.pow - 500\n",
    "            time_extra = (distance/speed)*3600\n",
    "            total_rev_made_extra = time/self.rev\n",
    "            energy_usage_extra = total_rev_made_extra * watt_diff\n",
    "            extra_charge = (energy_usage_extra/50) * 0.50\n",
    "\n",
    "            total_bill = price + extra_charge\n",
    "\n",
    "            print(f'''\n",
    "            Distance covered: {distance}km\n",
    "            Speed used: {speed}km/hr\n",
    "            Total energy expended: {energy_usage + energy_usage_extra}watts/rev\n",
    "            Regular price: {price}\n",
    "            Extra Charges: {extra_charge}\n",
    "            Total Cost of trip: {total_bill}Naira\n",
    "            ''')"
   ]
  },
  {
   "cell_type": "code",
   "execution_count": 10,
   "metadata": {},
   "outputs": [],
   "source": [
    "#create instances of the class(which are drive modes)\n",
    "rocker = Theta('bumpy drive',3,'rock',600)\n",
    "regular = Theta('tarred drive',10,'asphalt',500)\n",
    "desert = Theta('dusty drive',8,'sand',450)"
   ]
  },
  {
   "cell_type": "code",
   "execution_count": 13,
   "metadata": {},
   "outputs": [
    {
     "output_type": "stream",
     "name": "stdout",
     "text": [
      "\n            Distance covered: 40km\n            Speed used: 120km/hr\n            Total energy expended: 67500.0watts/rev\n            Cost of trip: 6000Naira\n            \n"
     ]
    }
   ],
   "source": [
    "desert.EnergyConsumption(40,120)"
   ]
  },
  {
   "cell_type": "code",
   "execution_count": null,
   "metadata": {},
   "outputs": [],
   "source": []
  }
 ]
}