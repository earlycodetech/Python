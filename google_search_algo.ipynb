{
 "cells": [
  {
   "cell_type": "code",
   "execution_count": 13,
   "metadata": {},
   "outputs": [],
   "source": [
    "google = [\n",
    "    ['PopCity Pizza','Hot pizza the way you want it',\n",
    "     'www.poppizza.com','09045672354','Kubwa',3.2,0],\n",
    "    ['SteakHouse','Meat delivered to you at your doorstep',\n",
    "     'www.steakhouse.com','08035672311','Maitama',4.3,0],\n",
    "    ['Breakfast Lounge','There is power in what you eat',\n",
    "     'www.breakfastlounge.com','07045762354','Central Area',4.5,0],\n",
    "    ['Hotspot Grills','Delicacies at your finger tips',\n",
    "     'www.hotspotgrill.com','09025672111','Kubwa',4.6,0],\n",
    "    ['Exotic Palace','Number 1 chill spot in Abuja',\n",
    "     'www.exoticpalace.com','08055672354','Asokoro',4.2,0],\n",
    "    ['St. Fulwel Kitchen','Nice egusi soup, hot grill rice',\n",
    "     'www.fulwelkitchen.com','09041111354','Wuse',4.4,0],\n",
    "    ['K Excellent Event','Hot and fresh snacks',\n",
    "     'www.kexcellent.com','09085672224','Kubwa',4.5,0]\n",
    "]"
   ]
  },
  {
   "cell_type": "code",
   "execution_count": 2,
   "metadata": {},
   "outputs": [],
   "source": [
    "#there will a search query\n",
    "#each keyword in name = 1 point\n",
    "#each keyword in description = 1 point\n",
    "#each keyword in website url = 2 points\n",
    "#location match = 2 points\n",
    "#review grading formula: (5 - review)*4"
   ]
  },
  {
   "cell_type": "code",
   "execution_count": 14,
   "metadata": {},
   "outputs": [
    {
     "name": "stdout",
     "output_type": "stream",
     "text": [
      "Google search\n",
      "order breakfast in wuse\n"
     ]
    }
   ],
   "source": [
    "query = input('Google search\\n')\n",
    "\n",
    "total_points = 0\n",
    "\n",
    "for word in query: #picks each word in search query\n",
    "    biz_index = 0 # keep track of biz index during looping\n",
    "    for biz in google: #attempt word search on a biz from google list\n",
    "        #each keyword in name = 1 point\n",
    "        if word.lower() in biz[0].lower():\n",
    "            total_points += 1\n",
    "        #each keyword in description = 1 point\n",
    "        if word.lower() in biz[1].lower():\n",
    "            total_points += 1\n",
    "        #each keyword in website url = 2 points\n",
    "        if word.lower() in biz[2].lower():\n",
    "            total_points += 2\n",
    "        #location match = 2 points\n",
    "        if word.lower() in biz[4].lower():\n",
    "            total_points += 2\n",
    "        #review grading formula: (5 - review)*4\n",
    "        total_points += (5 - biz[5])*4\n",
    "        \n",
    "        #assign total point to biz\n",
    "        google[biz_index][6] = total_points\n",
    "        total_points = 0 #reset variable to 0\n",
    "        biz_index += 1 #increment index"
   ]
  },
  {
   "cell_type": "code",
   "execution_count": 15,
   "metadata": {},
   "outputs": [
    {
     "data": {
      "text/plain": [
       "[['PopCity Pizza',\n",
       "  'Hot pizza the way you want it',\n",
       "  'www.poppizza.com',\n",
       "  '09045672354',\n",
       "  'Kubwa',\n",
       "  3.2,\n",
       "  8.2],\n",
       " ['SteakHouse',\n",
       "  'Meat delivered to you at your doorstep',\n",
       "  'www.steakhouse.com',\n",
       "  '08035672311',\n",
       "  'Maitama',\n",
       "  4.3,\n",
       "  6.800000000000001],\n",
       " ['Breakfast Lounge',\n",
       "  'There is power in what you eat',\n",
       "  'www.breakfastlounge.com',\n",
       "  '07045762354',\n",
       "  'Central Area',\n",
       "  4.5,\n",
       "  8.0],\n",
       " ['Hotspot Grills',\n",
       "  'Delicacies at your finger tips',\n",
       "  'www.hotspotgrill.com',\n",
       "  '09025672111',\n",
       "  'Kubwa',\n",
       "  4.6,\n",
       "  2.6000000000000014],\n",
       " ['Exotic Palace',\n",
       "  'Number 1 chill spot in Abuja',\n",
       "  'www.exoticpalace.com',\n",
       "  '08055672354',\n",
       "  'Asokoro',\n",
       "  4.2,\n",
       "  7.199999999999999],\n",
       " ['St. Fulwel Kitchen',\n",
       "  'Nice egusi soup, hot grill rice',\n",
       "  'www.fulwelkitchen.com',\n",
       "  '09041111354',\n",
       "  'Wuse',\n",
       "  4.4,\n",
       "  8.399999999999999],\n",
       " ['K Excellent Event',\n",
       "  'Hot and fresh snacks',\n",
       "  'www.kexcellent.com',\n",
       "  '09085672224',\n",
       "  'Kubwa',\n",
       "  4.5,\n",
       "  6.0]]"
      ]
     },
     "execution_count": 15,
     "metadata": {},
     "output_type": "execute_result"
    }
   ],
   "source": [
    "google"
   ]
  },
  {
   "cell_type": "code",
   "execution_count": null,
   "metadata": {},
   "outputs": [],
   "source": []
  },
  {
   "cell_type": "code",
   "execution_count": null,
   "metadata": {},
   "outputs": [],
   "source": []
  }
 ],
 "metadata": {
  "kernelspec": {
   "display_name": "Python 3",
   "language": "python",
   "name": "python3"
  },
  "language_info": {
   "codemirror_mode": {
    "name": "ipython",
    "version": 3
   },
   "file_extension": ".py",
   "mimetype": "text/x-python",
   "name": "python",
   "nbconvert_exporter": "python",
   "pygments_lexer": "ipython3",
   "version": "3.7.3"
  }
 },
 "nbformat": 4,
 "nbformat_minor": 2
}
