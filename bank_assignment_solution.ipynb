{
 "cells": [
  {
   "cell_type": "code",
   "execution_count": 1,
   "metadata": {},
   "outputs": [],
   "source": [
    "access = {\n",
    "    '0016020346':['adami','Holynation2',78476],\n",
    "    '0256020309':['mikel66','Chelsea123',6373653]\n",
    "}"
   ]
  },
  {
   "cell_type": "code",
   "execution_count": 3,
   "metadata": {},
   "outputs": [
    {
     "name": "stdout",
     "output_type": "stream",
     "text": [
      "Welcome to Access Holdings Internet banking\n",
      "Enter your account number\n",
      "0016020346\n",
      "Enter your username\n",
      "adami\n",
      "Enter your password\n",
      "Holynation2\n",
      "You account is 78476\n",
      "Enter an amount to transfer\n",
      "55000\n",
      "Your OTP is 534984\n",
      "Enter the OTP sent to you\n",
      "534984\n",
      "Transfer of 55000 was successful\n"
     ]
    }
   ],
   "source": [
    "print('Welcome to Access Holdings Internet banking')\n",
    "acct_no = input('Enter your account number\\n')\n",
    "\n",
    "import random\n",
    "\n",
    "if acct_no in access:\n",
    "    username = input('Enter your username\\n')\n",
    "    password = input('Enter your password\\n')\n",
    "    \n",
    "    if username == access[acct_no][0] and password == access[acct_no][1]:\n",
    "        print(f'You account is {access[acct_no][2]}')\n",
    "        amount = int(input('Enter an amount to transfer\\n'))\n",
    "        \n",
    "        if amount < access[acct_no][2]:\n",
    "            otp = random.randrange(100000,999999)\n",
    "            print(f'Your OTP is {otp}')\n",
    "            re_otp = int(input('Enter the OTP sent to you\\n'))\n",
    "            \n",
    "            if re_otp == otp:\n",
    "                print(f'Transfer of {amount} was successful')\n",
    "            else:\n",
    "                print('Invalid OTP')\n",
    "        else:\n",
    "            print('Insufficient balance')\n",
    "else:\n",
    "    print('Invalid account')"
   ]
  },
  {
   "cell_type": "code",
   "execution_count": null,
   "metadata": {},
   "outputs": [],
   "source": []
  }
 ],
 "metadata": {
  "kernelspec": {
   "display_name": "Python 3",
   "language": "python",
   "name": "python3"
  },
  "language_info": {
   "codemirror_mode": {
    "name": "ipython",
    "version": 3
   },
   "file_extension": ".py",
   "mimetype": "text/x-python",
   "name": "python",
   "nbconvert_exporter": "python",
   "pygments_lexer": "ipython3",
   "version": "3.7.3"
  }
 },
 "nbformat": 4,
 "nbformat_minor": 2
}
