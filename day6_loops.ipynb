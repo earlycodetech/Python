{
 "cells": [
  {
   "cell_type": "code",
   "execution_count": 1,
   "metadata": {},
   "outputs": [],
   "source": [
    "fruits = ['Pawpaw','Orange','Apple']"
   ]
  },
  {
   "cell_type": "code",
   "execution_count": 3,
   "metadata": {},
   "outputs": [
    {
     "name": "stdout",
     "output_type": "stream",
     "text": [
      "6\n",
      "6\n",
      "5\n"
     ]
    }
   ],
   "source": [
    "for x in fruits:\n",
    "    print(len(x))"
   ]
  },
  {
   "cell_type": "code",
   "execution_count": 4,
   "metadata": {},
   "outputs": [],
   "source": [
    "numbers = [34,363,625,223]"
   ]
  },
  {
   "cell_type": "code",
   "execution_count": 5,
   "metadata": {},
   "outputs": [
    {
     "name": "stdout",
     "output_type": "stream",
     "text": [
      "134\n",
      "373\n",
      "635\n",
      "233\n"
     ]
    }
   ],
   "source": [
    "#for loop is used on an existing iterable object\n",
    "for num in numbers:\n",
    "    if num > 200:\n",
    "        print(num + 10)\n",
    "    else:\n",
    "        print(num + 100)"
   ]
  },
  {
   "cell_type": "code",
   "execution_count": 6,
   "metadata": {},
   "outputs": [
    {
     "name": "stdout",
     "output_type": "stream",
     "text": [
      "9\n",
      "8\n",
      "7\n",
      "6\n",
      "5\n",
      "4\n",
      "3\n",
      "2\n",
      "1\n"
     ]
    }
   ],
   "source": [
    "#while loop: performs an operation as long as a condition remains true\n",
    "current_number = 9\n",
    "\n",
    "while current_number >= 1:\n",
    "    print(current_number)\n",
    "    current_number -= 1"
   ]
  },
  {
   "cell_type": "code",
   "execution_count": 7,
   "metadata": {},
   "outputs": [],
   "source": [
    "my_list = []\n",
    "import random\n",
    "\n",
    "count = 1\n",
    "\n",
    "while count <= 50:\n",
    "    gen_num = random.randrange(100,999)\n",
    "    my_list.append(gen_num)\n",
    "    count += 1"
   ]
  },
  {
   "cell_type": "code",
   "execution_count": 8,
   "metadata": {},
   "outputs": [
    {
     "data": {
      "text/plain": [
       "[580,\n",
       " 307,\n",
       " 987,\n",
       " 325,\n",
       " 833,\n",
       " 169,\n",
       " 210,\n",
       " 121,\n",
       " 209,\n",
       " 751,\n",
       " 932,\n",
       " 616,\n",
       " 165,\n",
       " 834,\n",
       " 683,\n",
       " 250,\n",
       " 880,\n",
       " 326,\n",
       " 739,\n",
       " 386,\n",
       " 772,\n",
       " 348,\n",
       " 425,\n",
       " 107,\n",
       " 264,\n",
       " 788,\n",
       " 866,\n",
       " 970,\n",
       " 309,\n",
       " 392,\n",
       " 904,\n",
       " 226,\n",
       " 853,\n",
       " 283,\n",
       " 768,\n",
       " 183,\n",
       " 915,\n",
       " 731,\n",
       " 179,\n",
       " 471,\n",
       " 306,\n",
       " 481,\n",
       " 787,\n",
       " 954,\n",
       " 554,\n",
       " 940,\n",
       " 219,\n",
       " 641,\n",
       " 682,\n",
       " 191]"
      ]
     },
     "execution_count": 8,
     "metadata": {},
     "output_type": "execute_result"
    }
   ],
   "source": [
    "my_list"
   ]
  },
  {
   "cell_type": "code",
   "execution_count": null,
   "metadata": {},
   "outputs": [],
   "source": []
  }
 ],
 "metadata": {
  "kernelspec": {
   "display_name": "Python 3",
   "language": "python",
   "name": "python3"
  },
  "language_info": {
   "codemirror_mode": {
    "name": "ipython",
    "version": 3
   },
   "file_extension": ".py",
   "mimetype": "text/x-python",
   "name": "python",
   "nbconvert_exporter": "python",
   "pygments_lexer": "ipython3",
   "version": "3.7.3"
  }
 },
 "nbformat": 4,
 "nbformat_minor": 2
}
