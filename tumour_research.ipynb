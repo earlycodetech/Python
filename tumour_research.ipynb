{
 "cells": [
  {
   "cell_type": "code",
   "execution_count": 1,
   "metadata": {},
   "outputs": [],
   "source": [
    "#Nig. Pharmaceutical Research Institute\n",
    "#scientists: computer programming and statistics\n",
    "# tann 0.1g reduces tumour by 33.33% on  a 1 inch tumour"
   ]
  },
  {
   "cell_type": "code",
   "execution_count": 2,
   "metadata": {},
   "outputs": [],
   "source": [
    "def tann(**kwargs):\n",
    "    standardized = []\n",
    "    sample_results = []\n",
    "    \n",
    "    for sample in kwargs:\n",
    "        amount_tann = kwargs[sample][0]\n",
    "        size_tumour = kwargs[sample][1]\n",
    "        perc_decr = kwargs[sample][2]\n",
    "        \n",
    "        #compare to theoritical standard\n",
    "        x = (33.33*amount_tann)/0.1\n",
    "        standardized.append(x)\n",
    "        sample_results.append(perc_decr)\n",
    "    \n",
    "    import statistics\n",
    "    error = statistics.stdev([sum(standardized),sum(sample_results)])\n",
    "    print(f'''\n",
    "    Error Rate: {error}\n",
    "    Hint: An error rate greater than 1 is a high error rate\n",
    "    ''')"
   ]
  },
  {
   "cell_type": "code",
   "execution_count": 3,
   "metadata": {},
   "outputs": [
    {
     "name": "stdout",
     "output_type": "stream",
     "text": [
      "\n",
      "    Error Rate: 16.252849365572782\n",
      "    Hint: An error rate greater than 1 is a high error rate\n",
      "    \n"
     ]
    }
   ],
   "source": [
    "tann(sample1=(0.12,1.0,37),sample2=(0.19,1.0,50),sample3=(0.14,1.0,40))"
   ]
  },
  {
   "cell_type": "code",
   "execution_count": null,
   "metadata": {},
   "outputs": [],
   "source": []
  }
 ],
 "metadata": {
  "kernelspec": {
   "display_name": "Python 3",
   "language": "python",
   "name": "python3"
  },
  "language_info": {
   "codemirror_mode": {
    "name": "ipython",
    "version": 3
   },
   "file_extension": ".py",
   "mimetype": "text/x-python",
   "name": "python",
   "nbconvert_exporter": "python",
   "pygments_lexer": "ipython3",
   "version": "3.8.3"
  }
 },
 "nbformat": 4,
 "nbformat_minor": 4
}
