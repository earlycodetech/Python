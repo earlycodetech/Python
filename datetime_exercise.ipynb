{
 "cells": [
  {
   "cell_type": "code",
   "execution_count": 10,
   "metadata": {},
   "outputs": [
    {
     "name": "stdout",
     "output_type": "stream",
     "text": [
      "87 + 41 = ?\n",
      "5\n",
      "65 + 58 = ?\n",
      "46\n",
      "26 + 75 = ?\n",
      "6\n",
      "21 - 16 = ?\n",
      "7\n",
      "67 - 27 = ?\n",
      "6\n",
      "\n",
      "It took you a \n",
      "total of 60seconds \n",
      "to get 0 questions correct\n",
      "\n"
     ]
    }
   ],
   "source": [
    "signs = ('+','-')\n",
    "time = []\n",
    "correct = []\n",
    "\n",
    "from random import randrange\n",
    "from datetime import datetime\n",
    "\n",
    "count = 1 #needed by while loop\n",
    "\n",
    "while count <= 5: #stops when questions have been asked on the 5th time\n",
    "    picked_sign = signs[randrange(0,2)]\n",
    "    \n",
    "    if picked_sign == '+':\n",
    "        num1 = randrange(10,100)\n",
    "        num2 = randrange(10,100)\n",
    "        \n",
    "        ans = num1 + num2\n",
    "        qst_asked = datetime.now() #call current time before question is asked\n",
    "        your_ans = int(input(f'{num1} + {num2} = ?\\n'))\n",
    "        \n",
    "        if your_ans == ans:\n",
    "            now = datetime.now()\n",
    "            time_taken = now - qst_asked #calculate difference in time\n",
    "            time.append(time_taken.seconds) \n",
    "            correct.append(1)\n",
    "            count += 1\n",
    "        else: #for wrong answer\n",
    "            time.append(12) #a wrong answer increase time proficiency by 12 seconds\n",
    "            count += 1\n",
    "            \n",
    "    elif picked_sign == '-':\n",
    "        num1 = randrange(10,100)\n",
    "        num2 = randrange(10,100)\n",
    "        \n",
    "        ans = num1 - num2\n",
    "        qst_asked = datetime.now()\n",
    "        your_ans = int(input(f'{num1} - {num2} = ?\\n'))\n",
    "        \n",
    "        if your_ans == ans:\n",
    "            now = datetime.now() #call current time before question is asked\n",
    "            time_taken = now - qst_asked #calculate difference in time\n",
    "            time.append(time_taken.seconds)\n",
    "            correct.append(1)\n",
    "            count += 1\n",
    "        else: #for wrong answer\n",
    "            time.append(12)\n",
    "            count += 1\n",
    "            \n",
    "#move indentation outside while loop\n",
    "total_time = sum(time) #sum up total time taken to answer questions\n",
    "total_correct = sum(correct) #finds the number of questions answered correctly\n",
    "\n",
    "#print a formatted result\n",
    "print(f'''\n",
    "It took you a \n",
    "total of {total_time}seconds \n",
    "to get {total_correct} questions correct\n",
    "''')"
   ]
  },
  {
   "cell_type": "code",
   "execution_count": 15,
   "metadata": {},
   "outputs": [
    {
     "data": {
      "text/plain": [
       "1"
      ]
     },
     "execution_count": 15,
     "metadata": {},
     "output_type": "execute_result"
    }
   ],
   "source": [
    "randrange(1,3)"
   ]
  },
  {
   "cell_type": "code",
   "execution_count": 16,
   "metadata": {},
   "outputs": [],
   "source": [
    "signs = ('+','-')"
   ]
  },
  {
   "cell_type": "code",
   "execution_count": 22,
   "metadata": {},
   "outputs": [
    {
     "data": {
      "text/plain": [
       "'+'"
      ]
     },
     "execution_count": 22,
     "metadata": {},
     "output_type": "execute_result"
    }
   ],
   "source": [
    "signs[0]"
   ]
  },
  {
   "cell_type": "code",
   "execution_count": 23,
   "metadata": {},
   "outputs": [
    {
     "data": {
      "text/plain": [
       "int"
      ]
     },
     "execution_count": 23,
     "metadata": {},
     "output_type": "execute_result"
    }
   ],
   "source": [
    "type(randrange(0,2))"
   ]
  },
  {
   "cell_type": "code",
   "execution_count": null,
   "metadata": {},
   "outputs": [],
   "source": []
  }
 ],
 "metadata": {
  "kernelspec": {
   "display_name": "Python 3",
   "language": "python",
   "name": "python3"
  },
  "language_info": {
   "codemirror_mode": {
    "name": "ipython",
    "version": 3
   },
   "file_extension": ".py",
   "mimetype": "text/x-python",
   "name": "python",
   "nbconvert_exporter": "python",
   "pygments_lexer": "ipython3",
   "version": "3.7.3"
  }
 },
 "nbformat": 4,
 "nbformat_minor": 2
}
